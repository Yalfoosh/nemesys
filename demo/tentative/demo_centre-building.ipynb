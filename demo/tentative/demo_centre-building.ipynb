{
 "cells": [
  {
   "cell_type": "markdown",
   "id": "24483902",
   "metadata": {},
   "source": [
    "# Neural Memory System - Centre building"
   ]
  },
  {
   "cell_type": "markdown",
   "id": "74b3b714",
   "metadata": {},
   "source": [
    "## Environment setup"
   ]
  },
  {
   "cell_type": "code",
   "execution_count": 1,
   "id": "5b7199a8",
   "metadata": {},
   "outputs": [],
   "source": [
    "import os\n",
    "from pathlib import Path"
   ]
  },
  {
   "cell_type": "code",
   "execution_count": 2,
   "id": "c324c05d",
   "metadata": {},
   "outputs": [],
   "source": [
    "CURRENT_FOLDER = Path(os.getcwd())"
   ]
  },
  {
   "cell_type": "code",
   "execution_count": 3,
   "id": "2f0f33bc",
   "metadata": {},
   "outputs": [],
   "source": [
    "CD_KEY = \"--CENTRE_BUILDING_DEMO_IN_ROOT\"\n",
    "\n",
    "if (\n",
    "    CD_KEY not in os.environ\n",
    "    or os.environ[CD_KEY] is None\n",
    "    or len(os.environ[CD_KEY]) == 0\n",
    "    or os.environ[CD_KEY] == \"false\"\n",
    "):\n",
    "    %cd -q ../../..\n",
    "    \n",
    "    ROOT_FOLDER = Path(os.getcwd()).relative_to(os.getcwd())\n",
    "    CURRENT_FOLDER = CURRENT_FOLDER.relative_to(ROOT_FOLDER.absolute())\n",
    "    \n",
    "os.environ[CD_KEY] = \"true\""
   ]
  },
  {
   "cell_type": "code",
   "execution_count": 4,
   "id": "da5c5380",
   "metadata": {},
   "outputs": [
    {
     "name": "stdout",
     "output_type": "stream",
     "text": [
      "Root folder:    .\n",
      "Current folder: nemesys/demo/tentative\n"
     ]
    }
   ],
   "source": [
    "print(f\"Root folder:    {ROOT_FOLDER}\")\n",
    "print(f\"Current folder: {CURRENT_FOLDER}\")"
   ]
  },
  {
   "cell_type": "markdown",
   "id": "bb71f12c",
   "metadata": {},
   "source": [
    "## Modules"
   ]
  },
  {
   "cell_type": "code",
   "execution_count": 5,
   "id": "1127e689",
   "metadata": {},
   "outputs": [],
   "source": [
    "from itertools import product\n",
    "import math\n",
    "import struct\n",
    "\n",
    "import numpy as np\n",
    "import torch\n",
    "import torch.nn\n",
    "\n",
    "from nemesys.hashing.minhashing.numpy_minhash import NumPyMinHash\n",
    "from nemesys.modelling.analysers.modules.pytorch_analyser_lstm import PyTorchAnalyserLSTM\n",
    "from nemesys.modelling.decoders.modules.pytorch_decoder_conv2d import PyTorchDecoderConv2D\n",
    "from nemesys.modelling.encoders.modules.pytorch_encoder_linear import PyTorchEncoderLinear\n",
    "from nemesys.modelling.routers.concatenation.minhash.minhash_concatenation_router import (\n",
    "    MinHashConcatenationRouter\n",
    ")\n",
    "from nemesys.modelling.stores.pytorch_list_store import PyTorchListStore\n",
    "from nemesys.modelling.synthesisers.modules.pytorch_synthesiser_linear import PyTorchSynthesiserLinear"
   ]
  },
  {
   "cell_type": "code",
   "execution_count": 6,
   "id": "23a2135b",
   "metadata": {},
   "outputs": [],
   "source": [
    "torch.set_printoptions(sci_mode=False)"
   ]
  },
  {
   "cell_type": "markdown",
   "id": "e653a438",
   "metadata": {},
   "source": [
    "## Components setup"
   ]
  },
  {
   "cell_type": "markdown",
   "id": "373011f2",
   "metadata": {},
   "source": [
    "### Sizes"
   ]
  },
  {
   "cell_type": "code",
   "execution_count": 7,
   "id": "0cf71b00",
   "metadata": {},
   "outputs": [],
   "source": [
    "EMBEDDING_SIZE = 4"
   ]
  },
  {
   "cell_type": "code",
   "execution_count": 8,
   "id": "732dc461",
   "metadata": {},
   "outputs": [],
   "source": [
    "ANALYSER_CLASS_NAMES = (\"statement\",)\n",
    "ANALYSER_OUTPUT_SIZE = EMBEDDING_SIZE"
   ]
  },
  {
   "cell_type": "code",
   "execution_count": 9,
   "id": "2074d06e",
   "metadata": {},
   "outputs": [],
   "source": [
    "ENCODER_OUTPUT_SIZE = 3"
   ]
  },
  {
   "cell_type": "code",
   "execution_count": 10,
   "id": "e5150663",
   "metadata": {},
   "outputs": [],
   "source": [
    "DECODER_IN_CHANNELS = 1\n",
    "DECODER_OUT_CHANNELS = 3\n",
    "DECODER_KERNEL_SIZE = (1, ENCODER_OUTPUT_SIZE)"
   ]
  },
  {
   "cell_type": "code",
   "execution_count": 11,
   "id": "b297c618",
   "metadata": {},
   "outputs": [],
   "source": [
    "MINHASH_N_PERMUTATIONS = 4\n",
    "MINHASH_SEED = 0"
   ]
  },
  {
   "cell_type": "markdown",
   "id": "f7763602",
   "metadata": {},
   "source": [
    "### Embedding setup"
   ]
  },
  {
   "cell_type": "code",
   "execution_count": 12,
   "id": "238c5164",
   "metadata": {},
   "outputs": [],
   "source": [
    "allowed_letters = [chr(x) for x in range(ord(\"A\"), ord(\"Z\") + 1)]\n",
    "vocabulary = [\"\".join(x) for x in product(*([allowed_letters] * 3))]\n",
    "word_to_index = {word: i for i, word in enumerate(vocabulary)}"
   ]
  },
  {
   "cell_type": "code",
   "execution_count": 13,
   "id": "4e5266e1",
   "metadata": {},
   "outputs": [],
   "source": [
    "embedding = torch.nn.Embedding(\n",
    "    num_embeddings=len(word_to_index),\n",
    "    embedding_dim=EMBEDDING_SIZE,\n",
    "    max_norm=math.sqrt(EMBEDDING_SIZE),\n",
    ")"
   ]
  },
  {
   "cell_type": "markdown",
   "id": "0b68bf08",
   "metadata": {},
   "source": [
    "### Analyser setup"
   ]
  },
  {
   "cell_type": "code",
   "execution_count": 14,
   "id": "da453437",
   "metadata": {},
   "outputs": [],
   "source": [
    "analyser = PyTorchAnalyserLSTM(\n",
    "    class_names=ANALYSER_CLASS_NAMES,\n",
    "    input_size=EMBEDDING_SIZE,\n",
    "    hidden_size=ANALYSER_OUTPUT_SIZE,\n",
    "    batch_first=True,\n",
    ")"
   ]
  },
  {
   "cell_type": "markdown",
   "id": "3e853dd3",
   "metadata": {},
   "source": [
    "### Encoder setup"
   ]
  },
  {
   "cell_type": "code",
   "execution_count": 15,
   "id": "d6f4d287",
   "metadata": {},
   "outputs": [],
   "source": [
    "encoder = PyTorchEncoderLinear(\n",
    "    in_features=ANALYSER_OUTPUT_SIZE,\n",
    "    out_features=ENCODER_OUTPUT_SIZE,\n",
    "    content_key=\"content\",\n",
    ")"
   ]
  },
  {
   "cell_type": "markdown",
   "id": "ad455374",
   "metadata": {},
   "source": [
    "### Store setup"
   ]
  },
  {
   "cell_type": "code",
   "execution_count": 16,
   "id": "30485439",
   "metadata": {},
   "outputs": [],
   "source": [
    "store = PyTorchListStore()"
   ]
  },
  {
   "cell_type": "markdown",
   "id": "c9ffd978",
   "metadata": {},
   "source": [
    "### Decoder setup"
   ]
  },
  {
   "cell_type": "code",
   "execution_count": 17,
   "id": "078c6185",
   "metadata": {},
   "outputs": [],
   "source": [
    "decoder = PyTorchDecoderConv2D(\n",
    "    in_channels = DECODER_IN_CHANNELS,\n",
    "    out_channels = DECODER_OUT_CHANNELS,\n",
    "    kernel_size = DECODER_KERNEL_SIZE,\n",
    ")"
   ]
  },
  {
   "cell_type": "markdown",
   "id": "1d4f4e2f",
   "metadata": {},
   "source": [
    "### Router setup"
   ]
  },
  {
   "cell_type": "markdown",
   "id": "50ad18f9",
   "metadata": {},
   "source": [
    "#### MinHash setup"
   ]
  },
  {
   "cell_type": "code",
   "execution_count": 35,
   "id": "5953ba3d",
   "metadata": {},
   "outputs": [],
   "source": [
    "def tensor_to_numpy(x: torch.Tensor):\n",
    "    x = x.reshape((x.shape[0], -1)) # Preserve batches\n",
    "    x = np.array(x, dtype=np.float32)\n",
    "    \n",
    "    return x\n",
    "\n",
    "\n",
    "def preprocess_function(element):\n",
    "    element_as_bytes = struct.pack(\"<f\", float(element))\n",
    "    element_as_int = np.fromstring(\n",
    "        element_as_bytes, dtype=np.uint32\n",
    "    ).astype(np.uint64)[0]\n",
    "\n",
    "    return element_as_int\n",
    "\n",
    "def numpy_to_tensor(x: np.ndarray):\n",
    "    x_floats = np.vectorize(lambda x: x / ((2 ** 32) - 1))(x)\n",
    "    \n",
    "    return torch.tensor(x_floats, dtype=torch.float32)"
   ]
  },
  {
   "cell_type": "code",
   "execution_count": 19,
   "id": "fcee54ed",
   "metadata": {},
   "outputs": [],
   "source": [
    "minhash = NumPyMinHash(\n",
    "    n_permutations=MINHASH_N_PERMUTATIONS,\n",
    "    seed=MINHASH_SEED,\n",
    "    preprocess_function=preprocess_function,\n",
    ")"
   ]
  },
  {
   "cell_type": "markdown",
   "id": "039ac77b",
   "metadata": {},
   "source": [
    "#### Continuing router setup"
   ]
  },
  {
   "cell_type": "code",
   "execution_count": 20,
   "id": "cbd0d8db",
   "metadata": {},
   "outputs": [],
   "source": [
    "router = MinHashConcatenationRouter(minhash_instance=minhash)"
   ]
  },
  {
   "cell_type": "markdown",
   "id": "a1202586",
   "metadata": {},
   "source": [
    "### Synthesiser setup"
   ]
  },
  {
   "cell_type": "markdown",
   "id": "93ab0f0a",
   "metadata": {},
   "source": [
    "## Runs"
   ]
  },
  {
   "cell_type": "markdown",
   "id": "75b7cc1a",
   "metadata": {},
   "source": [
    "### Data preparation"
   ]
  },
  {
   "cell_type": "code",
   "execution_count": 21,
   "id": "a0e5970b",
   "metadata": {},
   "outputs": [],
   "source": [
    "inputs = [\"AAA\", \"ABA\", \"BDC\"]\n",
    "has_a = [1 if \"A\" in x else 0 for x in inputs]"
   ]
  },
  {
   "cell_type": "code",
   "execution_count": 22,
   "id": "7457e0cf",
   "metadata": {},
   "outputs": [
    {
     "name": "stdout",
     "output_type": "stream",
     "text": [
      "tensor([  0,  26, 756])\n"
     ]
    }
   ],
   "source": [
    "input_indices = [word_to_index[word] for word in inputs]\n",
    "input_indices = torch.tensor(input_indices)\n",
    "print(input_indices)"
   ]
  },
  {
   "cell_type": "code",
   "execution_count": 23,
   "id": "5141c97a",
   "metadata": {},
   "outputs": [
    {
     "name": "stdout",
     "output_type": "stream",
     "text": [
      "tensor([1, 1, 0])\n"
     ]
    }
   ],
   "source": [
    "output_tensor = torch.tensor(has_a)\n",
    "print(output_tensor)"
   ]
  },
  {
   "cell_type": "markdown",
   "id": "b2bfdfad",
   "metadata": {},
   "source": [
    "### Embedding run"
   ]
  },
  {
   "cell_type": "code",
   "execution_count": 24,
   "id": "35e31918",
   "metadata": {},
   "outputs": [
    {
     "name": "stdout",
     "output_type": "stream",
     "text": [
      "tensor([[ 0.0733,  1.6564,  0.0727,  1.0186],\n",
      "        [ 0.3968, -0.2372, -1.5747, -0.4124],\n",
      "        [ 0.2069,  0.6105, -0.5933, -0.8433]], grad_fn=<EmbeddingBackward>)\n"
     ]
    }
   ],
   "source": [
    "embeddings = embedding(input_indices)\n",
    "print(embeddings)"
   ]
  },
  {
   "cell_type": "markdown",
   "id": "dca4ce4b",
   "metadata": {},
   "source": [
    "### Analyser run"
   ]
  },
  {
   "cell_type": "code",
   "execution_count": 25,
   "id": "4659dd64",
   "metadata": {},
   "outputs": [
    {
     "name": "stdout",
     "output_type": "stream",
     "text": [
      "statement:\n",
      "tensor([[ 0.0044,  0.1220, -0.0175, -0.2743],\n",
      "        [-0.0601, -0.0471, -0.1271,  0.2379],\n",
      "        [-0.1024,  0.0011, -0.0486,  0.1101]], grad_fn=<IndexBackward>)\n"
     ]
    }
   ],
   "source": [
    "analyser_output = analyser(embeddings.reshape(len(inputs), 1, -1))\n",
    "\n",
    "for class_name in ANALYSER_CLASS_NAMES:\n",
    "    print(f\"{class_name}:\")\n",
    "    print(analyser_output[class_name][\"content\"])"
   ]
  },
  {
   "cell_type": "markdown",
   "id": "f6fc2827",
   "metadata": {},
   "source": [
    "### Encoder run"
   ]
  },
  {
   "cell_type": "code",
   "execution_count": 26,
   "id": "f42b2066",
   "metadata": {},
   "outputs": [
    {
     "name": "stdout",
     "output_type": "stream",
     "text": [
      "{'content': tensor([[ 0.1218, -0.0339,  0.0212],\n",
      "        [-0.0465,  0.0300,  0.0055],\n",
      "        [-0.0192, -0.0080,  0.0010]], grad_fn=<MmBackward>)}\n"
     ]
    }
   ],
   "source": [
    "encoder_output = encoder(analyser_output[\"statement\"])\n",
    "print(encoder_output)"
   ]
  },
  {
   "cell_type": "markdown",
   "id": "936225e2",
   "metadata": {},
   "source": [
    "### Store run"
   ]
  },
  {
   "cell_type": "code",
   "execution_count": 27,
   "id": "4a77ac96",
   "metadata": {},
   "outputs": [
    {
     "name": "stdout",
     "output_type": "stream",
     "text": [
      "[tensor([[ 0.1218, -0.0339,  0.0212],\n",
      "        [-0.0465,  0.0300,  0.0055],\n",
      "        [-0.0192, -0.0080,  0.0010]])]\n"
     ]
    }
   ],
   "source": [
    "store.append(encoder_output[\"content\"])\n",
    "print(store)"
   ]
  },
  {
   "cell_type": "markdown",
   "id": "d83707b3",
   "metadata": {},
   "source": [
    "### Decoder run"
   ]
  },
  {
   "cell_type": "code",
   "execution_count": 28,
   "id": "e224f6fe",
   "metadata": {},
   "outputs": [
    {
     "name": "stdout",
     "output_type": "stream",
     "text": [
      "{'content': tensor([[[[ 0.4530],\n",
      "          [ 0.5088],\n",
      "          [ 0.4872]],\n",
      "\n",
      "         [[ 0.4030],\n",
      "          [ 0.4953],\n",
      "          [ 0.4768]],\n",
      "\n",
      "         [[-0.1114],\n",
      "          [-0.0418],\n",
      "          [-0.0639]]]], grad_fn=<ThnnConv2DBackward>)}\n"
     ]
    }
   ],
   "source": [
    "decoder_output = decoder(store)\n",
    "print(decoder_output)"
   ]
  },
  {
   "cell_type": "markdown",
   "id": "e954833a",
   "metadata": {},
   "source": [
    "### Router run"
   ]
  },
  {
   "cell_type": "code",
   "execution_count": 36,
   "id": "517d731b",
   "metadata": {},
   "outputs": [],
   "source": [
    "router_input = decoder_output[\"content\"].squeeze(dim=0)"
   ]
  },
  {
   "cell_type": "code",
   "execution_count": 37,
   "id": "c0c70a19",
   "metadata": {},
   "outputs": [
    {
     "name": "stderr",
     "output_type": "stream",
     "text": [
      "/tmp/ipykernel_27340/3174470834.py:10: DeprecationWarning: The binary mode of fromstring is deprecated, as it behaves surprisingly on unicode inputs. Use frombuffer instead\n",
      "  element_as_int = np.fromstring(\n"
     ]
    }
   ],
   "source": [
    "router_output = router(router_input)"
   ]
  },
  {
   "cell_type": "code",
   "execution_count": 38,
   "id": "659b517e",
   "metadata": {},
   "outputs": [
    {
     "name": "stdout",
     "output_type": "stream",
     "text": [
      "tensor([[0.4881, 0.8373, 0.6695, 0.0170, 0.7944, 0.6838, 0.8554, 0.2267, 0.2587,\n",
      "         0.0597, 0.3019, 0.7954],\n",
      "        [0.8945, 0.7646, 0.3306, 0.5174, 0.5584, 0.1036, 0.1118, 0.1061, 0.2825,\n",
      "         0.2752, 0.6448, 0.2994],\n",
      "        [0.9799, 0.3582, 0.8451, 0.7665, 0.2921, 0.9583, 0.6857, 0.8045, 0.6184,\n",
      "         0.1507, 0.1753, 0.6196]])\n"
     ]
    }
   ],
   "source": [
    "router_output = numpy_to_tensor(router_output)\n",
    "print(router_output)"
   ]
  },
  {
   "cell_type": "markdown",
   "id": "d4a9ed88",
   "metadata": {},
   "source": [
    "### Synthesiser run"
   ]
  },
  {
   "cell_type": "code",
   "execution_count": null,
   "id": "2d0c90a1",
   "metadata": {},
   "outputs": [],
   "source": []
  }
 ],
 "metadata": {
  "kernelspec": {
   "display_name": "nemesys",
   "language": "python",
   "name": "nemesys"
  },
  "language_info": {
   "codemirror_mode": {
    "name": "ipython",
    "version": 3
   },
   "file_extension": ".py",
   "mimetype": "text/x-python",
   "name": "python",
   "nbconvert_exporter": "python",
   "pygments_lexer": "ipython3",
   "version": "3.8.8"
  }
 },
 "nbformat": 4,
 "nbformat_minor": 5
}
