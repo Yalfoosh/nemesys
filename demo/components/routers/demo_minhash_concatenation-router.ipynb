{
 "cells": [
  {
   "cell_type": "markdown",
   "metadata": {},
   "source": [
    "# Neural Memory System - MinHashConcatenationRouter demo"
   ]
  },
  {
   "cell_type": "markdown",
   "metadata": {},
   "source": [
    "## Environment setup"
   ]
  },
  {
   "cell_type": "code",
   "execution_count": 1,
   "metadata": {},
   "outputs": [],
   "source": [
    "import os\n",
    "from pathlib import Path"
   ]
  },
  {
   "cell_type": "code",
   "execution_count": 2,
   "metadata": {},
   "outputs": [],
   "source": [
    "CURRENT_FOLDER = Path(os.getcwd())"
   ]
  },
  {
   "cell_type": "code",
   "execution_count": 3,
   "metadata": {},
   "outputs": [],
   "source": [
    "CD_KEY = \"--MINHASH_CONCATENATION_ROUTER_DEMO_IN_ROOT\"\n",
    "\n",
    "if (\n",
    "    CD_KEY not in os.environ\n",
    "    or os.environ[CD_KEY] is None\n",
    "    or len(os.environ[CD_KEY]) == 0\n",
    "    or os.environ[CD_KEY] == \"false\"\n",
    "):\n",
    "    %cd -q ../../..\n",
    "    \n",
    "    ROOT_FOLDER = Path(os.getcwd()).relative_to(os.getcwd())\n",
    "    CURRENT_FOLDER = CURRENT_FOLDER.relative_to(ROOT_FOLDER.absolute())\n",
    "    \n",
    "os.environ[CD_KEY] = \"true\""
   ]
  },
  {
   "cell_type": "code",
   "execution_count": 4,
   "metadata": {},
   "outputs": [
    {
     "name": "stdout",
     "output_type": "stream",
     "text": [
      "Root folder:    .\n",
      "Current folder: demo/components/routers\n"
     ]
    }
   ],
   "source": [
    "print(f\"Root folder:    {ROOT_FOLDER}\")\n",
    "print(f\"Current folder: {CURRENT_FOLDER}\")"
   ]
  },
  {
   "cell_type": "markdown",
   "metadata": {},
   "source": [
    "## Modules"
   ]
  },
  {
   "cell_type": "code",
   "execution_count": 5,
   "metadata": {},
   "outputs": [],
   "source": [
    "import struct\n",
    "\n",
    "import numpy as np\n",
    "import torch\n",
    "import torch.nn\n",
    "\n",
    "from nemesys.hashing.minhashing.numpy_minhash import NumPyMinHash\n",
    "from nemesys.modelling.routers.concatenation.minhash.minhash_concatenation_router import (\n",
    "    MinHashConcatenationRouter\n",
    ")"
   ]
  },
  {
   "cell_type": "code",
   "execution_count": 6,
   "metadata": {},
   "outputs": [],
   "source": [
    "torch.set_printoptions(sci_mode=False)"
   ]
  },
  {
   "cell_type": "markdown",
   "metadata": {},
   "source": [
    "## MinHash setup"
   ]
  },
  {
   "cell_type": "code",
   "execution_count": 7,
   "metadata": {},
   "outputs": [],
   "source": [
    "def tensor_to_numpy(x: torch.Tensor):\n",
    "    x = x.reshape((x.shape[0], -1)) # Preserve batches\n",
    "    x = np.array(x, dtype=np.float32)\n",
    "    \n",
    "    return x\n",
    "\n",
    "\n",
    "def preprocess_function(element):\n",
    "    element_as_bytes = struct.pack(\"<f\", float(element))\n",
    "    element_as_int = np.fromstring(\n",
    "        element_as_bytes, dtype=np.uint32\n",
    "    ).astype(np.uint64)[0]\n",
    "\n",
    "    return element_as_int"
   ]
  },
  {
   "cell_type": "code",
   "execution_count": 8,
   "metadata": {},
   "outputs": [],
   "source": [
    "minhash = NumPyMinHash(\n",
    "    n_permutations=4,\n",
    "    seed=0,\n",
    "    preprocess_function=preprocess_function,\n",
    ")"
   ]
  },
  {
   "cell_type": "markdown",
   "metadata": {},
   "source": [
    "## Router setup"
   ]
  },
  {
   "cell_type": "code",
   "execution_count": 9,
   "metadata": {},
   "outputs": [],
   "source": [
    "router = MinHashConcatenationRouter(minhash_instance=minhash)"
   ]
  },
  {
   "cell_type": "markdown",
   "metadata": {},
   "source": [
    "## Data setup"
   ]
  },
  {
   "cell_type": "code",
   "execution_count": 10,
   "metadata": {},
   "outputs": [],
   "source": [
    "n_components = 3\n",
    "\n",
    "batch_size = 4\n",
    "input_size = 5"
   ]
  },
  {
   "cell_type": "code",
   "execution_count": 11,
   "metadata": {},
   "outputs": [
    {
     "name": "stdout",
     "output_type": "stream",
     "text": [
      "[[ 0.3046537   0.44374186 -0.3322699  -0.5119507  -0.6314258 ]\n",
      " [-0.16624093 -0.7653986   0.37151664  1.1652074  -0.8043268 ]\n",
      " [-1.5527984  -0.9281696   1.0720382   0.01733972  0.98142576]\n",
      " [-0.0818289   0.25497547  0.62854296  0.06091348 -1.0241609 ]]\n",
      "[[ 0.35646385 -1.4483922   1.5252744   1.3462796   0.57404625]\n",
      " [-0.5017233  -0.23838635 -0.30878955  0.43304852 -0.6522648 ]\n",
      " [-1.6178601   1.7178988  -0.38555825  1.9820848  -1.4452257 ]\n",
      " [ 1.3866167   1.0575365   1.0813372   0.10766499 -1.1934907 ]]\n",
      "[[-1.2594994   1.1616645   0.14051685 -1.3803155  -1.3005396 ]\n",
      " [-0.08484103 -0.11379652  1.1112069  -1.2638999   0.46519783]\n",
      " [ 0.5398138   0.2742598  -1.6134946  -0.19242162 -1.1512389 ]\n",
      " [-1.6646423  -0.8908239   0.20249332  0.03411724 -0.2655127 ]]\n"
     ]
    }
   ],
   "source": [
    "input_list = [\n",
    "    torch.normal(mean=0, std=1, size=(batch_size, input_size))\n",
    "    for _ in range(n_components)\n",
    "]\n",
    "transformed_input_list = [\n",
    "    tensor_to_numpy(x)\n",
    "    for x in input_list\n",
    "]\n",
    "\n",
    "for x in transformed_input_list:\n",
    "    print(x)"
   ]
  },
  {
   "cell_type": "markdown",
   "metadata": {},
   "source": [
    "## Results"
   ]
  },
  {
   "cell_type": "code",
   "execution_count": 12,
   "metadata": {
    "scrolled": false
   },
   "outputs": [
    {
     "name": "stderr",
     "output_type": "stream",
     "text": [
      "/tmp/ipykernel_24514/3139398083.py:10: DeprecationWarning: The binary mode of fromstring is deprecated, as it behaves surprisingly on unicode inputs. Use frombuffer instead\n",
      "  element_as_int = np.fromstring(\n"
     ]
    }
   ],
   "source": [
    "results = router(transformed_input_list)"
   ]
  },
  {
   "cell_type": "code",
   "execution_count": 13,
   "metadata": {},
   "outputs": [
    {
     "name": "stdout",
     "output_type": "stream",
     "text": [
      "torch.Size([4, 12])\n",
      "tensor([[ 811112042, 2044578876,  986428128,  313898414,  918139401,  465593181,\n",
      "          557243040,   49090601,   81840628, 1043316506,  687696800, 1395297723],\n",
      "        [  78445237,  958941415,  348683803,  426916073, 1182372534,   51443775,\n",
      "           92504870,  374942956,  243289224,  692504985, 1512657859,  131980672],\n",
      "        [ 783823861,  200673411, 1475591209, 1624117407, 2184364439,    5419753,\n",
      "          470582986,  189207870,   40406291,  351238330,  628843326,  330343608],\n",
      "        [ 353610889,  693314985, 3400939406, 2688117124, 1280997748, 2821960091,\n",
      "          501761516, 1082071508,  670076042,  896605754,  380623797,  106657242]])\n"
     ]
    }
   ],
   "source": [
    "t = torch.tensor([batch.astype(np.int64) for batch in results])\n",
    "print(t.shape)\n",
    "print(t)"
   ]
  }
 ],
 "metadata": {
  "kernelspec": {
   "display_name": "nemesys",
   "language": "python",
   "name": "nemesys"
  },
  "language_info": {
   "codemirror_mode": {
    "name": "ipython",
    "version": 3
   },
   "file_extension": ".py",
   "mimetype": "text/x-python",
   "name": "python",
   "nbconvert_exporter": "python",
   "pygments_lexer": "ipython3",
   "version": "3.8.8"
  }
 },
 "nbformat": 4,
 "nbformat_minor": 4
}
