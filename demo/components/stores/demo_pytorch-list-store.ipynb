{
 "cells": [
  {
   "cell_type": "markdown",
   "metadata": {},
   "source": [
    "# Neural Memory System - PyTorchListStore demo"
   ]
  },
  {
   "cell_type": "markdown",
   "metadata": {},
   "source": [
    "## Environment setup"
   ]
  },
  {
   "cell_type": "code",
   "execution_count": 1,
   "metadata": {},
   "outputs": [],
   "source": [
    "import os\n",
    "from pathlib import Path"
   ]
  },
  {
   "cell_type": "code",
   "execution_count": 2,
   "metadata": {},
   "outputs": [],
   "source": [
    "CURRENT_FOLDER = Path(os.getcwd())"
   ]
  },
  {
   "cell_type": "code",
   "execution_count": 3,
   "metadata": {},
   "outputs": [],
   "source": [
    "CD_KEY = \"--PYTORCH_LIST_STORE_DEMO_IN_ROOT\"\n",
    "\n",
    "if (\n",
    "    CD_KEY not in os.environ\n",
    "    or os.environ[CD_KEY] is None\n",
    "    or len(os.environ[CD_KEY]) == 0\n",
    "    or os.environ[CD_KEY] == \"false\"\n",
    "):\n",
    "    %cd -q ../../..\n",
    "    \n",
    "    ROOT_FOLDER = Path(os.getcwd()).relative_to(os.getcwd())\n",
    "    CURRENT_FOLDER = CURRENT_FOLDER.relative_to(ROOT_FOLDER.absolute())\n",
    "    \n",
    "os.environ[CD_KEY] = \"true\""
   ]
  },
  {
   "cell_type": "code",
   "execution_count": 4,
   "metadata": {},
   "outputs": [
    {
     "name": "stdout",
     "output_type": "stream",
     "text": [
      "Root folder:    .\n",
      "Current folder: demo/components/stores\n"
     ]
    }
   ],
   "source": [
    "print(f\"Root folder:    {ROOT_FOLDER}\")\n",
    "print(f\"Current folder: {CURRENT_FOLDER}\")"
   ]
  },
  {
   "cell_type": "markdown",
   "metadata": {},
   "source": [
    "## Modules"
   ]
  },
  {
   "cell_type": "code",
   "execution_count": 5,
   "metadata": {},
   "outputs": [],
   "source": [
    "import torch\n",
    "import torch.nn"
   ]
  },
  {
   "cell_type": "code",
   "execution_count": 6,
   "metadata": {},
   "outputs": [],
   "source": [
    "from nemesys.modelling.blocks.pytorch_block import PyTorchBlock\n",
    "from nemesys.modelling.stores.pytorch_list_store import PyTorchListStore"
   ]
  },
  {
   "cell_type": "code",
   "execution_count": 7,
   "metadata": {},
   "outputs": [],
   "source": [
    "torch.set_printoptions(sci_mode=False)"
   ]
  },
  {
   "cell_type": "markdown",
   "metadata": {},
   "source": [
    "## Store setup"
   ]
  },
  {
   "cell_type": "code",
   "execution_count": 8,
   "metadata": {},
   "outputs": [],
   "source": [
    "store = PyTorchListStore()"
   ]
  },
  {
   "cell_type": "markdown",
   "metadata": {},
   "source": [
    "## Setting values"
   ]
  },
  {
   "cell_type": "markdown",
   "metadata": {},
   "source": [
    "### Setting all values"
   ]
  },
  {
   "cell_type": "code",
   "execution_count": 9,
   "metadata": {},
   "outputs": [],
   "source": [
    "block_tensors = [\n",
    "    torch.normal(mean=0, std=1, size=(3, 4, 5))\n",
    "    for _ in range(2)\n",
    "]\n",
    "blocks = [\n",
    "    PyTorchBlock.from_tensor(block_tensor)\n",
    "    for block_tensor in block_tensors\n",
    "]"
   ]
  },
  {
   "cell_type": "code",
   "execution_count": 10,
   "metadata": {},
   "outputs": [],
   "source": [
    "store.set_all(blocks)"
   ]
  },
  {
   "cell_type": "code",
   "execution_count": 11,
   "metadata": {},
   "outputs": [
    {
     "name": "stdout",
     "output_type": "stream",
     "text": [
      "[tensor([[[-0.2300, -0.6651,  0.8999, -1.6332,  2.1068],\n",
      "         [-0.6748, -0.9371,  1.0201, -2.2129, -0.2126],\n",
      "         [-1.5771, -0.2148,  0.8784, -1.5063, -0.8381],\n",
      "         [ 1.4678,  0.0490, -0.4015, -1.7074,  0.5224]],\n",
      "\n",
      "        [[ 0.5600,  0.9534,  0.3417,  0.7842, -0.6812],\n",
      "         [ 1.0886,  0.2973, -0.7711, -0.1499,  1.8569],\n",
      "         [ 0.6571, -1.4816, -1.8590,  0.4241,  0.5162],\n",
      "         [ 1.7648, -1.8608, -0.3753,  0.2151,  0.3415]],\n",
      "\n",
      "        [[ 0.2331, -0.4335, -0.2121, -0.6993, -0.0882],\n",
      "         [ 1.2100,  0.6390, -0.1411, -2.2581, -0.6186],\n",
      "         [ 0.2593,  1.0203, -0.6357, -0.4740, -0.1554],\n",
      "         [ 0.5734, -0.1930,  0.0093,  0.6449,  1.5395]]]),\n",
      " tensor([[[-0.0718, -0.2678,  1.3636, -2.0246, -0.1990],\n",
      "         [ 0.9259,  1.4012, -0.9471,  0.8158, -0.5596],\n",
      "         [ 0.7258, -0.1031,  1.8959, -0.6016, -0.7274],\n",
      "         [ 1.8471, -0.0792, -0.0352,  0.2223,  0.1337]],\n",
      "\n",
      "        [[ 1.0280, -0.0393,  0.7101,  0.5207, -1.4708],\n",
      "         [-0.1918,  0.1151,  0.5490,  1.7493,  0.9857],\n",
      "         [ 0.6740, -0.3026,  0.6713, -0.5085, -0.0539],\n",
      "         [-0.5981,  0.5874,  0.6873, -0.8925, -0.4270]],\n",
      "\n",
      "        [[ 1.2004, -0.2279,  0.2887,  2.1504, -0.0421],\n",
      "         [-0.1979, -1.5271,  0.0564,  0.7429,  0.0795],\n",
      "         [ 0.9923, -0.9294, -0.4271,  1.7056, -0.4198],\n",
      "         [ 0.5661, -0.3081, -0.4512, -0.6877,  0.2229]]])]\n"
     ]
    }
   ],
   "source": [
    "print(store)"
   ]
  },
  {
   "cell_type": "markdown",
   "metadata": {},
   "source": [
    "### Setting one value"
   ]
  },
  {
   "cell_type": "code",
   "execution_count": 12,
   "metadata": {},
   "outputs": [],
   "source": [
    "new_first_tensor = torch.normal(mean=0, std=1, size=(2, 3, 4))\n",
    "new_first_block = PyTorchBlock.from_tensor(new_first_tensor)"
   ]
  },
  {
   "cell_type": "code",
   "execution_count": 13,
   "metadata": {},
   "outputs": [],
   "source": [
    "store.set_one(0, new_first_block)"
   ]
  },
  {
   "cell_type": "code",
   "execution_count": 14,
   "metadata": {},
   "outputs": [
    {
     "name": "stdout",
     "output_type": "stream",
     "text": [
      "[tensor([[[-0.6899, -0.4850, -0.1093, -1.6241],\n",
      "         [ 1.9250,  1.2041, -0.8849,  0.2110],\n",
      "         [-0.0484,  1.6537,  1.2840, -2.2416]],\n",
      "\n",
      "        [[ 0.9564, -0.5794,  0.6733, -0.6792],\n",
      "         [ 0.1262, -0.3764, -0.5701,  0.1720],\n",
      "         [-0.0589,  0.9239,  1.7211, -1.4973]]]),\n",
      " tensor([[[-0.0718, -0.2678,  1.3636, -2.0246, -0.1990],\n",
      "         [ 0.9259,  1.4012, -0.9471,  0.8158, -0.5596],\n",
      "         [ 0.7258, -0.1031,  1.8959, -0.6016, -0.7274],\n",
      "         [ 1.8471, -0.0792, -0.0352,  0.2223,  0.1337]],\n",
      "\n",
      "        [[ 1.0280, -0.0393,  0.7101,  0.5207, -1.4708],\n",
      "         [-0.1918,  0.1151,  0.5490,  1.7493,  0.9857],\n",
      "         [ 0.6740, -0.3026,  0.6713, -0.5085, -0.0539],\n",
      "         [-0.5981,  0.5874,  0.6873, -0.8925, -0.4270]],\n",
      "\n",
      "        [[ 1.2004, -0.2279,  0.2887,  2.1504, -0.0421],\n",
      "         [-0.1979, -1.5271,  0.0564,  0.7429,  0.0795],\n",
      "         [ 0.9923, -0.9294, -0.4271,  1.7056, -0.4198],\n",
      "         [ 0.5661, -0.3081, -0.4512, -0.6877,  0.2229]]])]\n"
     ]
    }
   ],
   "source": [
    "print(store)"
   ]
  },
  {
   "cell_type": "markdown",
   "metadata": {},
   "source": [
    "### Appending a value"
   ]
  },
  {
   "cell_type": "code",
   "execution_count": 15,
   "metadata": {},
   "outputs": [],
   "source": [
    "tensor_to_append = torch.normal(mean=0, std=1, size=(1, 2, 3))\n",
    "block_to_append = PyTorchBlock.from_tensor(tensor_to_append)"
   ]
  },
  {
   "cell_type": "code",
   "execution_count": 16,
   "metadata": {},
   "outputs": [],
   "source": [
    "store.append(block_to_append)"
   ]
  },
  {
   "cell_type": "code",
   "execution_count": 17,
   "metadata": {},
   "outputs": [
    {
     "name": "stdout",
     "output_type": "stream",
     "text": [
      "[tensor([[[-0.6899, -0.4850, -0.1093, -1.6241],\n",
      "         [ 1.9250,  1.2041, -0.8849,  0.2110],\n",
      "         [-0.0484,  1.6537,  1.2840, -2.2416]],\n",
      "\n",
      "        [[ 0.9564, -0.5794,  0.6733, -0.6792],\n",
      "         [ 0.1262, -0.3764, -0.5701,  0.1720],\n",
      "         [-0.0589,  0.9239,  1.7211, -1.4973]]]),\n",
      " tensor([[[-0.0718, -0.2678,  1.3636, -2.0246, -0.1990],\n",
      "         [ 0.9259,  1.4012, -0.9471,  0.8158, -0.5596],\n",
      "         [ 0.7258, -0.1031,  1.8959, -0.6016, -0.7274],\n",
      "         [ 1.8471, -0.0792, -0.0352,  0.2223,  0.1337]],\n",
      "\n",
      "        [[ 1.0280, -0.0393,  0.7101,  0.5207, -1.4708],\n",
      "         [-0.1918,  0.1151,  0.5490,  1.7493,  0.9857],\n",
      "         [ 0.6740, -0.3026,  0.6713, -0.5085, -0.0539],\n",
      "         [-0.5981,  0.5874,  0.6873, -0.8925, -0.4270]],\n",
      "\n",
      "        [[ 1.2004, -0.2279,  0.2887,  2.1504, -0.0421],\n",
      "         [-0.1979, -1.5271,  0.0564,  0.7429,  0.0795],\n",
      "         [ 0.9923, -0.9294, -0.4271,  1.7056, -0.4198],\n",
      "         [ 0.5661, -0.3081, -0.4512, -0.6877,  0.2229]]]),\n",
      " tensor([[[-2.1109, -0.5020, -0.2779],\n",
      "         [ 1.6220,  0.9113, -0.1192]]])]\n"
     ]
    }
   ],
   "source": [
    "print(store)"
   ]
  },
  {
   "cell_type": "markdown",
   "metadata": {},
   "source": [
    "### Setting some values"
   ]
  },
  {
   "cell_type": "code",
   "execution_count": 18,
   "metadata": {},
   "outputs": [],
   "source": [
    "indices_to_set = (0, 1)\n",
    "tensors_to_set = [\n",
    "    torch.normal(mean=0, std=1, size=(1, 2, 3))\n",
    "    for _ in indices_to_set\n",
    "]\n",
    "blocks_to_set = [\n",
    "    PyTorchBlock.from_tensor(tensor_to_set)\n",
    "    for tensor_to_set in tensors_to_set\n",
    "]"
   ]
  },
  {
   "cell_type": "code",
   "execution_count": 19,
   "metadata": {},
   "outputs": [],
   "source": [
    "store.set_some(keys=indices_to_set, contents=blocks_to_set)"
   ]
  },
  {
   "cell_type": "code",
   "execution_count": 20,
   "metadata": {},
   "outputs": [
    {
     "name": "stdout",
     "output_type": "stream",
     "text": [
      "[tensor([[[ 0.4488,  1.3271,  1.0355],\n",
      "         [ 0.6735, -0.9447,  0.0946]]]),\n",
      " tensor([[[-1.3430, -1.1268,  1.4008],\n",
      "         [ 0.5672, -1.9257,  0.5478]]]),\n",
      " tensor([[[-2.1109, -0.5020, -0.2779],\n",
      "         [ 1.6220,  0.9113, -0.1192]]])]\n"
     ]
    }
   ],
   "source": [
    "print(store)"
   ]
  },
  {
   "cell_type": "markdown",
   "metadata": {},
   "source": [
    "## Getting values"
   ]
  },
  {
   "cell_type": "markdown",
   "metadata": {},
   "source": [
    "### Getting all values"
   ]
  },
  {
   "cell_type": "code",
   "execution_count": 21,
   "metadata": {},
   "outputs": [
    {
     "name": "stdout",
     "output_type": "stream",
     "text": [
      "[[[ 0.44879678  1.3270708   1.035487  ]\n",
      "  [ 0.6734737  -0.9447335   0.09464643]]]\n",
      "\n",
      "\n",
      "[[[-1.3430144  -1.1267929   1.4008433 ]\n",
      "  [ 0.56715494 -1.9257079   0.54783046]]]\n",
      "\n",
      "\n",
      "[[[-2.1109486  -0.5020222  -0.27792957]\n",
      "  [ 1.6219851   0.9112824  -0.11918018]]]\n",
      "\n",
      "\n"
     ]
    }
   ],
   "source": [
    "for value in store.get_all():\n",
    "    print(f\"{value}\\n\\n\")"
   ]
  },
  {
   "cell_type": "markdown",
   "metadata": {},
   "source": [
    "### Getting one value"
   ]
  },
  {
   "cell_type": "code",
   "execution_count": 22,
   "metadata": {},
   "outputs": [
    {
     "name": "stdout",
     "output_type": "stream",
     "text": [
      "[[[ 0.44879678  1.3270708   1.035487  ]\n",
      "  [ 0.6734737  -0.9447335   0.09464643]]]\n"
     ]
    }
   ],
   "source": [
    "print(store.get_one(0))"
   ]
  },
  {
   "cell_type": "markdown",
   "metadata": {},
   "source": [
    "### Getting some values"
   ]
  },
  {
   "cell_type": "code",
   "execution_count": 23,
   "metadata": {},
   "outputs": [
    {
     "name": "stdout",
     "output_type": "stream",
     "text": [
      "[[[-1.3430144  -1.1267929   1.4008433 ]\n",
      "  [ 0.56715494 -1.9257079   0.54783046]]]\n",
      "\n",
      "\n",
      "[[[-2.1109486  -0.5020222  -0.27792957]\n",
      "  [ 1.6219851   0.9112824  -0.11918018]]]\n",
      "\n",
      "\n"
     ]
    }
   ],
   "source": [
    "for value in store.get_some((1, 2)):\n",
    "    print(f\"{value}\\n\\n\")"
   ]
  },
  {
   "cell_type": "markdown",
   "metadata": {},
   "source": [
    "## Removing values"
   ]
  },
  {
   "cell_type": "code",
   "execution_count": 24,
   "metadata": {},
   "outputs": [],
   "source": [
    "original_store = PyTorchListStore()\n",
    "original_store.set_all(store.get_all())"
   ]
  },
  {
   "cell_type": "markdown",
   "metadata": {},
   "source": [
    "### Removing all values"
   ]
  },
  {
   "cell_type": "code",
   "execution_count": 25,
   "metadata": {},
   "outputs": [],
   "source": [
    "store.remove_all()"
   ]
  },
  {
   "cell_type": "code",
   "execution_count": 26,
   "metadata": {},
   "outputs": [
    {
     "name": "stdout",
     "output_type": "stream",
     "text": [
      "[]\n"
     ]
    }
   ],
   "source": [
    "print(store)"
   ]
  },
  {
   "cell_type": "markdown",
   "metadata": {},
   "source": [
    "### Removing one value"
   ]
  },
  {
   "cell_type": "code",
   "execution_count": 27,
   "metadata": {},
   "outputs": [],
   "source": [
    "store.set_all(original_store.get_all())"
   ]
  },
  {
   "cell_type": "code",
   "execution_count": 28,
   "metadata": {},
   "outputs": [
    {
     "name": "stdout",
     "output_type": "stream",
     "text": [
      "[tensor([[[ 0.4488,  1.3271,  1.0355],\n",
      "         [ 0.6735, -0.9447,  0.0946]]]),\n",
      " tensor([[[-1.3430, -1.1268,  1.4008],\n",
      "         [ 0.5672, -1.9257,  0.5478]]]),\n",
      " tensor([[[-2.1109, -0.5020, -0.2779],\n",
      "         [ 1.6220,  0.9113, -0.1192]]])]\n"
     ]
    }
   ],
   "source": [
    "print(store)"
   ]
  },
  {
   "cell_type": "code",
   "execution_count": 29,
   "metadata": {},
   "outputs": [],
   "source": [
    "store.remove_one(0)"
   ]
  },
  {
   "cell_type": "code",
   "execution_count": 30,
   "metadata": {},
   "outputs": [
    {
     "name": "stdout",
     "output_type": "stream",
     "text": [
      "[tensor([[[-1.3430, -1.1268,  1.4008],\n",
      "         [ 0.5672, -1.9257,  0.5478]]]),\n",
      " tensor([[[-2.1109, -0.5020, -0.2779],\n",
      "         [ 1.6220,  0.9113, -0.1192]]])]\n"
     ]
    }
   ],
   "source": [
    "print(store)"
   ]
  },
  {
   "cell_type": "markdown",
   "metadata": {},
   "source": [
    "### Removing some values"
   ]
  },
  {
   "cell_type": "code",
   "execution_count": 31,
   "metadata": {},
   "outputs": [],
   "source": [
    "store.set_all(original_store.get_all())"
   ]
  },
  {
   "cell_type": "code",
   "execution_count": 32,
   "metadata": {},
   "outputs": [
    {
     "name": "stdout",
     "output_type": "stream",
     "text": [
      "[tensor([[[ 0.4488,  1.3271,  1.0355],\n",
      "         [ 0.6735, -0.9447,  0.0946]]]),\n",
      " tensor([[[-1.3430, -1.1268,  1.4008],\n",
      "         [ 0.5672, -1.9257,  0.5478]]]),\n",
      " tensor([[[-2.1109, -0.5020, -0.2779],\n",
      "         [ 1.6220,  0.9113, -0.1192]]])]\n"
     ]
    }
   ],
   "source": [
    "print(store)"
   ]
  },
  {
   "cell_type": "code",
   "execution_count": 33,
   "metadata": {},
   "outputs": [],
   "source": [
    "store.remove_some((0, 2))"
   ]
  },
  {
   "cell_type": "code",
   "execution_count": 34,
   "metadata": {},
   "outputs": [
    {
     "name": "stdout",
     "output_type": "stream",
     "text": [
      "[tensor([[[-1.3430, -1.1268,  1.4008],\n",
      "         [ 0.5672, -1.9257,  0.5478]]])]\n"
     ]
    }
   ],
   "source": [
    "print(store)"
   ]
  }
 ],
 "metadata": {
  "kernelspec": {
   "display_name": "nemesys",
   "language": "python",
   "name": "nemesys"
  },
  "language_info": {
   "codemirror_mode": {
    "name": "ipython",
    "version": 3
   },
   "file_extension": ".py",
   "mimetype": "text/x-python",
   "name": "python",
   "nbconvert_exporter": "python",
   "pygments_lexer": "ipython3",
   "version": "3.8.8"
  }
 },
 "nbformat": 4,
 "nbformat_minor": 4
}
