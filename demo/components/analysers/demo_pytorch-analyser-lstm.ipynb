{
 "cells": [
  {
   "cell_type": "markdown",
   "metadata": {},
   "source": [
    "# Neural Memory System - PyTorchAnalyserLSTM demo"
   ]
  },
  {
   "cell_type": "markdown",
   "metadata": {},
   "source": [
    "## Environment setup"
   ]
  },
  {
   "cell_type": "code",
   "execution_count": 1,
   "metadata": {},
   "outputs": [],
   "source": [
    "import os\n",
    "from pathlib import Path"
   ]
  },
  {
   "cell_type": "code",
   "execution_count": 2,
   "metadata": {},
   "outputs": [],
   "source": [
    "CURRENT_FOLDER = Path(os.getcwd())"
   ]
  },
  {
   "cell_type": "code",
   "execution_count": 3,
   "metadata": {},
   "outputs": [],
   "source": [
    "CD_KEY = \"--ANALYSER_LSTM_DEMO_IN_ROOT\"\n",
    "\n",
    "if (\n",
    "    CD_KEY not in os.environ\n",
    "    or os.environ[CD_KEY] is None\n",
    "    or len(os.environ[CD_KEY]) == 0\n",
    "    or os.environ[CD_KEY] == \"false\"\n",
    "):\n",
    "    %cd -q ../../..\n",
    "    \n",
    "    ROOT_FOLDER = Path(os.getcwd()).relative_to(os.getcwd())\n",
    "    CURRENT_FOLDER = CURRENT_FOLDER.relative_to(ROOT_FOLDER.absolute())\n",
    "    \n",
    "os.environ[CD_KEY] = \"true\""
   ]
  },
  {
   "cell_type": "code",
   "execution_count": 4,
   "metadata": {},
   "outputs": [
    {
     "name": "stdout",
     "output_type": "stream",
     "text": [
      "Root folder:    .\n",
      "Current folder: demo/components/analysers\n"
     ]
    }
   ],
   "source": [
    "print(f\"Root folder:    {ROOT_FOLDER}\")\n",
    "print(f\"Current folder: {CURRENT_FOLDER}\")"
   ]
  },
  {
   "cell_type": "markdown",
   "metadata": {},
   "source": [
    "## Modules"
   ]
  },
  {
   "cell_type": "code",
   "execution_count": 5,
   "metadata": {},
   "outputs": [],
   "source": [
    "import torch\n",
    "import torch.nn\n",
    "\n",
    "from nemesys.modelling.analysers.modules.pytorch_analyser_lstm import PyTorchAnalyserLSTM"
   ]
  },
  {
   "cell_type": "code",
   "execution_count": 6,
   "metadata": {},
   "outputs": [],
   "source": [
    "torch.set_printoptions(sci_mode=False)"
   ]
  },
  {
   "cell_type": "markdown",
   "metadata": {},
   "source": [
    "## Analyser setup"
   ]
  },
  {
   "cell_type": "code",
   "execution_count": 7,
   "metadata": {},
   "outputs": [],
   "source": [
    "class_names = (\"class1\", \"class2\")\n",
    "\n",
    "input_size = 128\n",
    "output_size = 4\n",
    "batch_first = True"
   ]
  },
  {
   "cell_type": "code",
   "execution_count": 8,
   "metadata": {},
   "outputs": [],
   "source": [
    "analyser = PyTorchAnalyserLSTM(\n",
    "    class_names=class_names,\n",
    "    input_size=input_size,\n",
    "    hidden_size=output_size,\n",
    "    batch_first=batch_first,\n",
    ")"
   ]
  },
  {
   "cell_type": "markdown",
   "metadata": {},
   "source": [
    "## Data setup"
   ]
  },
  {
   "cell_type": "code",
   "execution_count": 9,
   "metadata": {},
   "outputs": [],
   "source": [
    "batch_size = 4\n",
    "sequence_length = 4"
   ]
  },
  {
   "cell_type": "code",
   "execution_count": 10,
   "metadata": {},
   "outputs": [],
   "source": [
    "data_batch = torch.normal(mean=0, std=1, size=(batch_size, sequence_length, input_size))"
   ]
  },
  {
   "cell_type": "markdown",
   "metadata": {},
   "source": [
    "## Results"
   ]
  },
  {
   "cell_type": "code",
   "execution_count": 11,
   "metadata": {},
   "outputs": [],
   "source": [
    "result = analyser(data_batch)"
   ]
  },
  {
   "cell_type": "code",
   "execution_count": 12,
   "metadata": {},
   "outputs": [
    {
     "name": "stdout",
     "output_type": "stream",
     "text": [
      "class1:\n",
      "{'content': tensor([[    -0.4569,     -0.0001,      0.0132,      0.1137],\n",
      "        [    -0.0148,      0.1171,     -0.4016,      0.3214],\n",
      "        [     0.0072,      0.0822,     -0.0568,      0.0795],\n",
      "        [    -0.4120,     -0.0009,      0.0001,      0.0409],\n",
      "        [    -0.0426,      0.0117,      0.3627,      0.3228],\n",
      "        [     0.1696,      0.1243,     -0.3680,      0.4832],\n",
      "        [     0.0299,      0.3129,     -0.2312,      0.3342],\n",
      "        [    -0.0331,      0.6050,      0.2228,     -0.2524],\n",
      "        [    -0.3532,      0.0171,      0.3284,      0.5586],\n",
      "        [    -0.3284,      0.3425,     -0.0190,     -0.4926],\n",
      "        [    -0.0693,      0.4905,     -0.4949,      0.2142]],\n",
      "       grad_fn=<IndexBackward>)}\n",
      "\n",
      "class2:\n",
      "{'content': tensor([[     0.0749,     -0.5471,      0.0061,      0.0026],\n",
      "        [     0.0136,      0.1000,      0.0546,      0.0042],\n",
      "        [    -0.0010,      0.0467,     -0.0046,     -0.0189],\n",
      "        [    -0.0747,     -0.0122,      0.0005,      0.0277],\n",
      "        [     0.0361,     -0.2945,      0.5636,      0.3534]],\n",
      "       grad_fn=<IndexBackward>)}\n",
      "\n"
     ]
    }
   ],
   "source": [
    "for class_name, value in result.items():\n",
    "    print(f\"{class_name}:\")\n",
    "    print(value)\n",
    "    print()"
   ]
  }
 ],
 "metadata": {
  "kernelspec": {
   "display_name": "nemesys",
   "language": "python",
   "name": "nemesys"
  },
  "language_info": {
   "codemirror_mode": {
    "name": "ipython",
    "version": 3
   },
   "file_extension": ".py",
   "mimetype": "text/x-python",
   "name": "python",
   "nbconvert_exporter": "python",
   "pygments_lexer": "ipython3",
   "version": "3.8.8"
  }
 },
 "nbformat": 4,
 "nbformat_minor": 4
}
