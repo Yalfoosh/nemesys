{
 "cells": [
  {
   "cell_type": "markdown",
   "metadata": {},
   "source": [
    "# Neural Memory System - PyTorchBlock demo"
   ]
  },
  {
   "cell_type": "markdown",
   "metadata": {},
   "source": [
    "## Environment setup"
   ]
  },
  {
   "cell_type": "code",
   "execution_count": 1,
   "metadata": {},
   "outputs": [],
   "source": [
    "import os\n",
    "from pathlib import Path"
   ]
  },
  {
   "cell_type": "code",
   "execution_count": 2,
   "metadata": {},
   "outputs": [],
   "source": [
    "CURRENT_FOLDER = Path(os.getcwd())"
   ]
  },
  {
   "cell_type": "code",
   "execution_count": 3,
   "metadata": {},
   "outputs": [],
   "source": [
    "CD_KEY = \"--PYTORCH_BLOCK_DEMO_IN_ROOT\"\n",
    "\n",
    "if (\n",
    "    CD_KEY not in os.environ\n",
    "    or os.environ[CD_KEY] is None\n",
    "    or len(os.environ[CD_KEY]) == 0\n",
    "    or os.environ[CD_KEY] == \"false\"\n",
    "):\n",
    "    %cd -q ../../..\n",
    "    \n",
    "    ROOT_FOLDER = Path(os.getcwd()).relative_to(os.getcwd())\n",
    "    CURRENT_FOLDER = CURRENT_FOLDER.relative_to(ROOT_FOLDER.absolute())\n",
    "    \n",
    "os.environ[CD_KEY] = \"true\""
   ]
  },
  {
   "cell_type": "code",
   "execution_count": 4,
   "metadata": {},
   "outputs": [
    {
     "name": "stdout",
     "output_type": "stream",
     "text": [
      "Root folder:    .\n",
      "Current folder: demo/components/blocks\n"
     ]
    }
   ],
   "source": [
    "print(f\"Root folder:    {ROOT_FOLDER}\")\n",
    "print(f\"Current folder: {CURRENT_FOLDER}\")"
   ]
  },
  {
   "cell_type": "markdown",
   "metadata": {},
   "source": [
    "## Modules"
   ]
  },
  {
   "cell_type": "code",
   "execution_count": 5,
   "metadata": {},
   "outputs": [],
   "source": [
    "import torch\n",
    "import torch.nn"
   ]
  },
  {
   "cell_type": "code",
   "execution_count": 6,
   "metadata": {},
   "outputs": [],
   "source": [
    "from nemesys.modelling.blocks.pytorch_block import PyTorchBlock"
   ]
  },
  {
   "cell_type": "code",
   "execution_count": 7,
   "metadata": {},
   "outputs": [],
   "source": [
    "torch.set_printoptions(sci_mode=False)"
   ]
  },
  {
   "cell_type": "markdown",
   "metadata": {},
   "source": [
    "## Block setup"
   ]
  },
  {
   "cell_type": "code",
   "execution_count": 8,
   "metadata": {},
   "outputs": [],
   "source": [
    "base_shape = (3, 4)\n",
    "dtype = \"float32\"\n",
    "device = \"cpu\""
   ]
  },
  {
   "cell_type": "code",
   "execution_count": 9,
   "metadata": {},
   "outputs": [],
   "source": [
    "block = PyTorchBlock(\n",
    "    base_shape=base_shape,\n",
    "    dtype=dtype,\n",
    "    device=device\n",
    ")"
   ]
  },
  {
   "cell_type": "code",
   "execution_count": 10,
   "metadata": {},
   "outputs": [
    {
     "name": "stdout",
     "output_type": "stream",
     "text": [
      "Base shape: (3, 4)\n",
      "[]\n"
     ]
    }
   ],
   "source": [
    "print(f\"Base shape: {block.base_shape}\")\n",
    "print(block)"
   ]
  },
  {
   "cell_type": "markdown",
   "metadata": {},
   "source": [
    "### Getting block default"
   ]
  },
  {
   "cell_type": "code",
   "execution_count": 11,
   "metadata": {},
   "outputs": [],
   "source": [
    "block_default = block.default()"
   ]
  },
  {
   "cell_type": "code",
   "execution_count": 12,
   "metadata": {},
   "outputs": [
    {
     "name": "stdout",
     "output_type": "stream",
     "text": [
      "Base shape: (3, 4)\n",
      "[]\n"
     ]
    }
   ],
   "source": [
    "print(f\"Base shape: {block_default.base_shape}\")\n",
    "print(block)"
   ]
  },
  {
   "cell_type": "markdown",
   "metadata": {},
   "source": [
    "### Initializing from tensors"
   ]
  },
  {
   "cell_type": "code",
   "execution_count": 13,
   "metadata": {},
   "outputs": [],
   "source": [
    "imported_block = PyTorchBlock.from_tensor(torch.normal(mean=0, std=1, size=(1, 3, 4)))"
   ]
  },
  {
   "cell_type": "code",
   "execution_count": 14,
   "metadata": {},
   "outputs": [
    {
     "name": "stdout",
     "output_type": "stream",
     "text": [
      "[[[ 0.31728265  1.4025906  -0.17126203  0.77893245]\n",
      "  [ 0.88134867 -0.90505886 -1.5496457   0.41465402]\n",
      "  [-0.20294653 -0.8180233   0.09069518  1.2958885 ]]]\n"
     ]
    }
   ],
   "source": [
    "print(imported_block)"
   ]
  },
  {
   "cell_type": "markdown",
   "metadata": {},
   "source": [
    "### Cloning blocks"
   ]
  },
  {
   "cell_type": "code",
   "execution_count": 15,
   "metadata": {},
   "outputs": [],
   "source": [
    "cloned_block = imported_block.clone()"
   ]
  },
  {
   "cell_type": "code",
   "execution_count": 16,
   "metadata": {},
   "outputs": [
    {
     "name": "stdout",
     "output_type": "stream",
     "text": [
      "[[[ 0.31728265  1.4025906  -0.17126203  0.77893245]\n",
      "  [ 0.88134867 -0.90505886 -1.5496457   0.41465402]\n",
      "  [-0.20294653 -0.8180233   0.09069518  1.2958885 ]]]\n"
     ]
    }
   ],
   "source": [
    "print(cloned_block)"
   ]
  },
  {
   "cell_type": "code",
   "execution_count": 17,
   "metadata": {},
   "outputs": [
    {
     "name": "stdout",
     "output_type": "stream",
     "text": [
      "Same reference: False\n",
      "Same value: False\n"
     ]
    }
   ],
   "source": [
    "print(f\"Same reference: {imported_block is cloned_block}\")\n",
    "print(f\"Same value: {imported_block == cloned_block}\")"
   ]
  },
  {
   "cell_type": "code",
   "execution_count": 18,
   "metadata": {},
   "outputs": [
    {
     "name": "stdout",
     "output_type": "stream",
     "text": [
      "Same data referenced: False\n",
      "Same data values: tensor([[[True, True, True, True],\n",
      "         [True, True, True, True],\n",
      "         [True, True, True, True]]])\n"
     ]
    }
   ],
   "source": [
    "print(f\"Same data referenced: {imported_block.data is cloned_block.data}\")\n",
    "print(f\"Same data values: {imported_block.data == cloned_block.data}\")"
   ]
  }
 ],
 "metadata": {
  "kernelspec": {
   "display_name": "nemesys",
   "language": "python",
   "name": "nemesys"
  },
  "language_info": {
   "codemirror_mode": {
    "name": "ipython",
    "version": 3
   },
   "file_extension": ".py",
   "mimetype": "text/x-python",
   "name": "python",
   "nbconvert_exporter": "python",
   "pygments_lexer": "ipython3",
   "version": "3.8.8"
  }
 },
 "nbformat": 4,
 "nbformat_minor": 4
}
