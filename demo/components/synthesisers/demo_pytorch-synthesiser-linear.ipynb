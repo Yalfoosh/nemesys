{
 "cells": [
  {
   "cell_type": "markdown",
   "metadata": {},
   "source": [
    "# Neural Memory System - PyTorchSynthesiserLinear demo"
   ]
  },
  {
   "cell_type": "markdown",
   "metadata": {},
   "source": [
    "## Environment setup"
   ]
  },
  {
   "cell_type": "code",
   "execution_count": 1,
   "metadata": {},
   "outputs": [],
   "source": [
    "import os\n",
    "from pathlib import Path"
   ]
  },
  {
   "cell_type": "code",
   "execution_count": 2,
   "metadata": {},
   "outputs": [],
   "source": [
    "CURRENT_FOLDER = Path(os.getcwd())"
   ]
  },
  {
   "cell_type": "code",
   "execution_count": 3,
   "metadata": {},
   "outputs": [],
   "source": [
    "CD_KEY = \"--PYTORCH_SYNTHESISER_LINEAR_DEMO_IN_ROOT\"\n",
    "\n",
    "if (\n",
    "    CD_KEY not in os.environ\n",
    "    or os.environ[CD_KEY] is None\n",
    "    or len(os.environ[CD_KEY]) == 0\n",
    "    or os.environ[CD_KEY] == \"false\"\n",
    "):\n",
    "    %cd -q ../../..\n",
    "    \n",
    "    ROOT_FOLDER = Path(os.getcwd()).relative_to(os.getcwd())\n",
    "    CURRENT_FOLDER = CURRENT_FOLDER.relative_to(ROOT_FOLDER.absolute())\n",
    "    \n",
    "os.environ[CD_KEY] = \"true\""
   ]
  },
  {
   "cell_type": "code",
   "execution_count": 4,
   "metadata": {},
   "outputs": [
    {
     "name": "stdout",
     "output_type": "stream",
     "text": [
      "Root folder:    .\n",
      "Current folder: demo/components/synthesisers\n"
     ]
    }
   ],
   "source": [
    "print(f\"Root folder:    {ROOT_FOLDER}\")\n",
    "print(f\"Current folder: {CURRENT_FOLDER}\")"
   ]
  },
  {
   "cell_type": "markdown",
   "metadata": {},
   "source": [
    "## Modules"
   ]
  },
  {
   "cell_type": "code",
   "execution_count": 5,
   "metadata": {},
   "outputs": [],
   "source": [
    "import torch\n",
    "import torch.nn"
   ]
  },
  {
   "cell_type": "code",
   "execution_count": 6,
   "metadata": {},
   "outputs": [],
   "source": [
    "from nemesys.modelling.synthesisers.modules.pytorch_synthesiser_linear import (\n",
    "    PyTorchSynthesiserLinear\n",
    ")"
   ]
  },
  {
   "cell_type": "code",
   "execution_count": 7,
   "metadata": {},
   "outputs": [],
   "source": [
    "torch.set_printoptions(sci_mode=False)"
   ]
  },
  {
   "cell_type": "markdown",
   "metadata": {},
   "source": [
    "## Synthesiser setup"
   ]
  },
  {
   "cell_type": "code",
   "execution_count": 8,
   "metadata": {},
   "outputs": [],
   "source": [
    "content_key = \"content\"\n",
    "\n",
    "in_features = 128\n",
    "out_features = 4"
   ]
  },
  {
   "cell_type": "code",
   "execution_count": 9,
   "metadata": {},
   "outputs": [],
   "source": [
    "synthesiser = PyTorchSynthesiserLinear(\n",
    "    in_features = in_features,\n",
    "    out_features = out_features\n",
    ")"
   ]
  },
  {
   "cell_type": "markdown",
   "metadata": {},
   "source": [
    "## Data setup"
   ]
  },
  {
   "cell_type": "code",
   "execution_count": 10,
   "metadata": {},
   "outputs": [],
   "source": [
    "class_names = (\n",
    "    \"class1\",\n",
    "    \"class2\",\n",
    "    \"class3\",\n",
    ")\n",
    "\n",
    "batch_size = 3"
   ]
  },
  {
   "cell_type": "code",
   "execution_count": 11,
   "metadata": {},
   "outputs": [],
   "source": [
    "inputs = {\n",
    "    class_name: {\n",
    "        content_key: torch.normal(\n",
    "            mean=0, std=1, size=(batch_size, in_features)\n",
    "        )\n",
    "    }\n",
    "    for class_name in class_names\n",
    "}"
   ]
  },
  {
   "cell_type": "markdown",
   "metadata": {},
   "source": [
    "## Results"
   ]
  },
  {
   "cell_type": "code",
   "execution_count": 12,
   "metadata": {},
   "outputs": [],
   "source": [
    "result = synthesiser(inputs)"
   ]
  },
  {
   "cell_type": "code",
   "execution_count": 13,
   "metadata": {},
   "outputs": [
    {
     "name": "stdout",
     "output_type": "stream",
     "text": [
      "{'content': tensor([[-1.5787, -1.2272,  0.0290, -0.1688],\n",
      "        [ 1.3031,  1.8243, -0.3161,  0.0678],\n",
      "        [ 1.3487,  0.0643, -0.1532, -0.5004]], grad_fn=<MmBackward>)}\n"
     ]
    }
   ],
   "source": [
    "print(result)"
   ]
  }
 ],
 "metadata": {
  "kernelspec": {
   "display_name": "nemesys",
   "language": "python",
   "name": "nemesys"
  },
  "language_info": {
   "codemirror_mode": {
    "name": "ipython",
    "version": 3
   },
   "file_extension": ".py",
   "mimetype": "text/x-python",
   "name": "python",
   "nbconvert_exporter": "python",
   "pygments_lexer": "ipython3",
   "version": "3.8.8"
  }
 },
 "nbformat": 4,
 "nbformat_minor": 4
}
